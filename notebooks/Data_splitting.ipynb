{
 "cells": [
  {
   "cell_type": "code",
   "execution_count": 7,
   "id": "fda0a7c9",
   "metadata": {},
   "outputs": [],
   "source": [
    "import os\n",
    "import pandas as pd\n",
    "from sklearn.model_selection import train_test_split"
   ]
  },
  {
   "cell_type": "code",
   "execution_count": 50,
   "id": "6bf4c94f",
   "metadata": {},
   "outputs": [],
   "source": [
    "AUDIO_DIR = \"../valid_data/\"\n",
    "ANNOTATIONS_FILE = os.path.join(AUDIO_DIR, \"metadata_compiled_valid.parquet.gzip\")"
   ]
  },
  {
   "cell_type": "code",
   "execution_count": 51,
   "id": "d1b634b1",
   "metadata": {},
   "outputs": [],
   "source": [
    "df = pd.read_parquet(ANNOTATIONS_FILE)"
   ]
  },
  {
   "cell_type": "code",
   "execution_count": 52,
   "id": "525e7563",
   "metadata": {},
   "outputs": [],
   "source": [
    "train_val, test = train_test_split(df, test_size=0.1, random_state=0, stratify=df[['status']])\n",
    "train, val = train_test_split(train_val, test_size=0.1, random_state=0, stratify=train_val[['status']])\n",
    "\n",
    "train = train.reset_index(drop=True)\n",
    "val = val.reset_index(drop=True)\n",
    "test = test.reset_index(drop=True)"
   ]
  },
  {
   "cell_type": "code",
   "execution_count": 53,
   "id": "5bd1a481",
   "metadata": {},
   "outputs": [],
   "source": [
    "train.to_parquet(\"train.parquet.gzip\")\n",
    "val.to_parquet(\"val.parquet.gzip\")\n",
    "test.to_parquet(\"test.parquet.gzip\")"
   ]
  }
 ],
 "metadata": {
  "kernelspec": {
   "display_name": "Python 3 (ipykernel)",
   "language": "python",
   "name": "python3"
  },
  "language_info": {
   "codemirror_mode": {
    "name": "ipython",
    "version": 3
   },
   "file_extension": ".py",
   "mimetype": "text/x-python",
   "name": "python",
   "nbconvert_exporter": "python",
   "pygments_lexer": "ipython3",
   "version": "3.9.12"
  }
 },
 "nbformat": 4,
 "nbformat_minor": 5
}
