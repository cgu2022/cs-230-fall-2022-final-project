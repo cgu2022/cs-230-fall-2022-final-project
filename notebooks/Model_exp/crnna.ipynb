{
 "cells": [
  {
   "cell_type": "code",
   "execution_count": 14,
   "id": "72bf15ce",
   "metadata": {},
   "outputs": [],
   "source": [
    "import os\n",
    "import torch\n",
    "from torch import nn\n",
    "from torch.utils.data import Dataset, DataLoader\n",
    "import pandas as pd\n",
    "from tqdm import tqdm\n",
    "import audiomentations\n",
    "from torch_audiomentations import Compose, PitchShift, TimeInversion, AddBackgroundNoise, AddColoredNoise, PolarityInversion\n",
    "import torchaudio\n",
    "import numpy as np\n",
    "import sys\n",
    "import matplotlib.pyplot as plt\n",
    "import tensorboard\n",
    "from torch.utils.tensorboard import SummaryWriter\n",
    "\n",
    "WRITER_PATH =\"../../logs/CRNNA\""
   ]
  },
  {
   "cell_type": "markdown",
   "id": "b45bd173",
   "metadata": {},
   "source": [
    "# Building the Cough Dataset\n",
    "\n",
    "This is the preprocessing pipeline for all audio samples in the audio dataset."
   ]
  },
  {
   "cell_type": "code",
   "execution_count": 6,
   "id": "a6fe837a",
   "metadata": {},
   "outputs": [],
   "source": [
    "# Adapted from https://github.com/musikalkemist/pytorchforaudio\n",
    "\n",
    "class CoughDataset(Dataset):\n",
    "\n",
    "    def __init__(self,\n",
    "                 annotations_df,\n",
    "                 audio_dir,\n",
    "                 target_sample_rate,\n",
    "                 num_samples,\n",
    "                 device,\n",
    "                ):\n",
    "        self.annotations = annotations_df\n",
    "        self.audio_dir = audio_dir\n",
    "        self.device = device\n",
    "        self.target_sample_rate = target_sample_rate\n",
    "        self.num_samples = num_samples\n",
    "        self.label_dict = {'healthy':0, 'symptomatic':1, 'COVID-19':1}\n",
    "        self.label_weights = self._calculate_weights(annotations_df)\n",
    "\n",
    "\n",
    "    def __len__(self):\n",
    "        return len(self.annotations)\n",
    "\n",
    "    def __getitem__(self, index):\n",
    "        audio_sample_path = self._get_audio_sample_path(index)\n",
    "        label = self.label_dict[self._get_audio_sample_label(index)]\n",
    "        signal, sr = torchaudio.load(audio_sample_path)\n",
    "        \n",
    "        signal = signal.to(self.device)\n",
    "        signal = self._resample_if_necessary(signal, sr)\n",
    "        signal = self._mix_down_if_necessary(signal)\n",
    "        signal = self._cut_if_necessary(signal)\n",
    "        signal = self._right_pad_if_necessary(signal)\n",
    "\n",
    "        if \"symptomatic\" == self._get_audio_sample_label(index):\n",
    "            raise ValueError\n",
    "\n",
    "        return signal, label\n",
    "\n",
    "    def _cut_if_necessary(self, signal):\n",
    "        if signal.shape[1] > self.num_samples:\n",
    "            signal = signal[:, :self.num_samples]\n",
    "        return signal\n",
    "\n",
    "    def _right_pad_if_necessary(self, signal):\n",
    "        length_signal = signal.shape[1]\n",
    "        if length_signal < self.num_samples:\n",
    "            num_missing_samples = self.num_samples - length_signal\n",
    "            last_dim_padding = (0, num_missing_samples)\n",
    "            signal = torch.nn.functional.pad(signal, last_dim_padding)\n",
    "        return signal\n",
    "\n",
    "    def _resample_if_necessary(self, signal, sr):\n",
    "        if sr != self.target_sample_rate:\n",
    "            resampler = torchaudio.transforms.Resample(sr, self.target_sample_rate)\n",
    "            signal = resampler(signal)\n",
    "        return signal\n",
    "\n",
    "    def _mix_down_if_necessary(self, signal):\n",
    "        if signal.shape[0] > 1:\n",
    "            signal = torch.mean(signal, dim=0, keepdim=True)\n",
    "        return signal\n",
    "\n",
    "    def _get_audio_sample_path(self, index):\n",
    "        path = os.path.join(self.audio_dir, self.annotations.iloc[index, 0])+\".wav\"\n",
    "        return path\n",
    "\n",
    "\n",
    "    def _get_audio_sample_label(self, index):\n",
    "        return self.annotations.iloc[index, 9]\n",
    "\n",
    "    def _calculate_weights(self, annotation_df):\n",
    "        counts = annotation_df[\"status\"].value_counts()\n",
    "        total = len(annotation_df)\n",
    "        weights = (1-(counts/total))\n",
    "        weights /= weights.sum()\n",
    "        return torch.FloatTensor(weights)"
   ]
  },
  {
   "cell_type": "markdown",
   "id": "a92a0fc7",
   "metadata": {},
   "source": [
    "# Oversampled Dataset"
   ]
  },
  {
   "cell_type": "code",
   "execution_count": 8,
   "id": "ee8831c7",
   "metadata": {},
   "outputs": [],
   "source": [
    "AUDIO_DIR = \"../../valid_data/\"\n",
    "SAMPLE_RATE = 16000\n",
    "NUM_SAMPLES = SAMPLE_RATE*10\n",
    "\n",
    "if torch.cuda.is_available():\n",
    "    device = \"cuda\"\n",
    "else:\n",
    "    device = \"cpu\"\n",
    "\n",
    "train_df = pd.read_parquet(os.path.join(AUDIO_DIR, \"train_balanced_3500.parquet.gzip\"))\n",
    "val_df = pd.read_parquet(os.path.join(AUDIO_DIR, \"val_balanced_3500.parquet.gzip\"))\n",
    "test_df = pd.read_parquet(os.path.join(AUDIO_DIR, \"test_balanced_3500.parquet.gzip\"))"
   ]
  },
  {
   "cell_type": "markdown",
   "id": "c2d06d5a",
   "metadata": {},
   "source": [
    "# Normal (3 Class) Dataset"
   ]
  },
  {
   "cell_type": "code",
   "execution_count": 6,
   "id": "10e87941",
   "metadata": {},
   "outputs": [],
   "source": [
    "AUDIO_DIR = \"../valid_data/\"\n",
    "SAMPLE_RATE = 16000\n",
    "NUM_SAMPLES = SAMPLE_RATE*10\n",
    "\n",
    "if torch.cuda.is_available():\n",
    "    device = \"cuda\"\n",
    "else:\n",
    "    device = \"cpu\"\n",
    "\n",
    "train_df = pd.read_parquet(os.path.join(AUDIO_DIR, \"train_edited.parquet.gzip\"))\n",
    "val_df = pd.read_parquet(os.path.join(AUDIO_DIR, \"val_edited.parquet.gzip\"))\n",
    "test_df = pd.read_parquet(os.path.join(AUDIO_DIR, \"test_edited.parquet.gzip\"))"
   ]
  },
  {
   "cell_type": "markdown",
   "id": "b1fcdb18",
   "metadata": {},
   "source": [
    "# CRNN Model"
   ]
  },
  {
   "cell_type": "code",
   "execution_count": 9,
   "id": "c258e123",
   "metadata": {},
   "outputs": [],
   "source": [
    "class CRNN(torch.nn.Module):\n",
    "    def __init__(self, batch_size=16, drop_p=0.0):\n",
    "        super().__init__()\n",
    "        channels = [1, 16, 32, 64, 128]\n",
    "        #hidden_state = [2]\n",
    "        # 4 conv blocks / flatten / linear / softmax\n",
    "\n",
    "        self.num_layers = 1\n",
    "        self.hidden_size = 256\n",
    "        self.embed_size = self.hidden_size * 2\n",
    "        self.source_sequence_length = 31\n",
    "        self.target_sequence_length = 1\n",
    "        self.batch_size = batch_size\n",
    "\n",
    "        self.conv1 = nn.Sequential(\n",
    "            nn.Conv2d(\n",
    "                in_channels = channels[0],\n",
    "                out_channels = channels[1],\n",
    "                kernel_size=3,\n",
    "                stride=2,\n",
    "                padding=0\n",
    "            ),\n",
    "            nn.ReLU(),\n",
    "            nn.MaxPool2d(kernel_size=2),\n",
    "            nn.BatchNorm2d(channels[1]),\n",
    "            nn.Dropout(p=drop_p)\n",
    "        )\n",
    "\n",
    "        self.conv2 = nn.Sequential(\n",
    "            nn.Conv2d(\n",
    "                in_channels = channels[1],\n",
    "                out_channels = channels[2],\n",
    "                kernel_size=3,\n",
    "                stride=2,\n",
    "                padding=0\n",
    "            ),\n",
    "            nn.ReLU(),\n",
    "            nn.MaxPool2d(kernel_size=2, stride=1),\n",
    "            nn.BatchNorm2d(channels[2]),\n",
    "            nn.Dropout(p=drop_p)\n",
    "        )\n",
    "        self.conv3 = nn.Sequential(\n",
    "            nn.Conv2d(\n",
    "                in_channels = channels[2],\n",
    "                out_channels = channels[3],\n",
    "                kernel_size=3,\n",
    "                stride=1,\n",
    "                padding=0\n",
    "            ),\n",
    "            nn.ReLU(),\n",
    "            nn.MaxPool2d(kernel_size=2, stride=1),\n",
    "            nn.BatchNorm2d(channels[3]),\n",
    "            nn.Dropout(p=drop_p)\n",
    "        )\n",
    "        self.conv4 = nn.Sequential(\n",
    "            nn.Conv2d(\n",
    "                in_channels = channels[3],\n",
    "                out_channels = channels[4],\n",
    "                kernel_size=3,\n",
    "                stride=1,\n",
    "                padding=0\n",
    "            ),\n",
    "            nn.ReLU(),\n",
    "            nn.MaxPool2d(kernel_size=2, stride=1),\n",
    "            nn.BatchNorm2d(channels[4]),\n",
    "            nn.Dropout(p=drop_p)\n",
    "        )\n",
    "        \n",
    "\n",
    "        # LSTM Section\n",
    "        self.LSTM_model = nn.LSTM(input_size=1024, hidden_size=256, bidirectional=True, batch_first=True)\n",
    "        self.Tanh = nn.Tanh()\n",
    "        \n",
    "        # Transition from attention to FC\n",
    "\n",
    "        self.linear_temporal = nn.Sequential(\n",
    "            nn.Linear(self.source_sequence_length, 1),\n",
    "            nn.ReLU()\n",
    "        )\n",
    "\n",
    "        # For Fully Connected Layer\n",
    "        self.flatten = nn.Flatten()\n",
    "        self.linear = nn.Linear(self.hidden_size * 2, 2)\n",
    "        self.softmax = nn.Softmax(dim=-1)\n",
    "        # self.linear = nn.Linear(self.embed_size, 1)\n",
    "        # self.sigmoid = nn.Sigmoid()\n",
    "\n",
    "    def forward(self, input_data):\n",
    "        #nomralization\n",
    "        std = input_data.std()\n",
    "        input_data -= input_data.mean()\n",
    "        input_data /= std\n",
    "        \n",
    "        x = self.conv1(input_data)\n",
    "        x = self.conv2(x)\n",
    "        x = self.conv3(x)\n",
    "        x = self.conv4(x)\n",
    "        #td = self.flatten(x)\n",
    "\n",
    "        # Preprocessing for the LSTM\n",
    "        td = torch.swapaxes(x, 1, 3) # [batch_size, 128, 8, 31]  --> [batch_size, 31, 8, 128]\n",
    "        td = torch.reshape(td, (td.shape[0], 31, -1)) # 128 channels * 8 height of each channel = 1024\n",
    "\n",
    "         # LSTM Section - Preparing for the LSTM\n",
    "        self.h_0 = nn.Parameter(torch.zeros(self.num_layers * 2, self.batch_size, self.hidden_size)).to(device) #hidden state\n",
    "        self.c_0 = nn.Parameter(torch.zeros(self.num_layers * 2, self.batch_size, self.hidden_size)).to(device) #internal state\n",
    "        \n",
    "        # LSTM\n",
    "        LSTM_output, (hn, cn) = self.LSTM_model(td, (self.h_0, self.c_0)) #lstm with input, hidden, and internal state\n",
    "        LSTM_output = self.Tanh(LSTM_output)\n",
    "        #print(\"LSTM Output Size:\", LSTM_output.size()) # [16, 31, 512]\n",
    "        # LSTM_Output: (31, 512)\n",
    "\n",
    "        # LSTM_output --> (512, 1)\n",
    "        #attn_output = torch.transpose(attn_output, 0, 1) # (31, 512) --> (512, 31)\n",
    "        #print(\"attn_output:\", attn_output.size())\n",
    "        attn_output = torch.swapaxes(LSTM_output, 1, 2)\n",
    "        #print(\"attn_output after swap:\", attn_output.size())\n",
    "        crunch = self.linear_temporal(attn_output)\n",
    "\n",
    "        # Final Fully Connnected Layer\n",
    "        x = self.flatten(crunch)\n",
    "        #x = torch.transpose(x, 0, 1)\n",
    "        #print(\"X transposed:\", x.size())\n",
    "        logits = self.linear(x)\n",
    "        #logits = x\n",
    "        predictions = self.softmax(logits)\n",
    "        #predictions = self.sigmoid(logits)\n",
    "\n",
    "        return predictions\n",
    "    "
   ]
  },
  {
   "cell_type": "code",
   "execution_count": 10,
   "id": "2c406986",
   "metadata": {},
   "outputs": [],
   "source": [
    "from sklearn.metrics import classification_report, confusion_matrix, f1_score\n",
    "\n",
    "\n",
    "mel_spectrogram = torchaudio.transforms.MelSpectrogram(\n",
    "    sample_rate=SAMPLE_RATE,\n",
    "    n_fft=1024,\n",
    "    hop_length=512,\n",
    "    n_mels=128\n",
    ").to(device)\n",
    "\n",
    "augmentations = Compose(\n",
    "        transforms=[\n",
    "            PitchShift(\n",
    "                mode = \"per_example\",\n",
    "                p=0.5,\n",
    "                sample_rate=SAMPLE_RATE,\n",
    "                output_type=\"tensor\"\n",
    "                ),\n",
    "            TimeInversion(\n",
    "                mode = \"per_example\",\n",
    "                p=0.5,\n",
    "                output_type=\"tensor\"\n",
    "            ),\n",
    "            AddColoredNoise(\n",
    "                mode = \"per_example\",\n",
    "                p=0.5,\n",
    "                sample_rate=SAMPLE_RATE,\n",
    "                output_type=\"tensor\"\n",
    "            ),\n",
    "            PolarityInversion(\n",
    "                mode=\"per_example\",\n",
    "                p=0.5,\n",
    "                output_type=\"tensor\"\n",
    "            ), \n",
    "\n",
    "        ], output_type=\"tensor\"\n",
    "    )\n",
    "\n",
    "def count_correct(logits, y_true):\n",
    "    y_pred = torch.argmax(logits, axis = 1)\n",
    "    return torch.sum(y_pred==y_true)\n",
    "\n",
    "def train_single_epoch(model, train_data_loader, val_data_loader, loss_fn, optimiser, device, do_augment=False):\n",
    "    total_loss_train = 0.0\n",
    "    correct_pred_train = 0.0\n",
    "    total_pred_train = 0\n",
    "\n",
    "    train_trues = []\n",
    "    train_preds = []\n",
    "\n",
    "    for x_batch, y_batch in tqdm(train_data_loader):\n",
    "        x_batch, y_batch = x_batch.to(device), y_batch.to(device)\n",
    "\n",
    "        if do_augment:\n",
    "            x_batch = augmentations(x_batch, SAMPLE_RATE)\n",
    "        \n",
    "\n",
    "        x_batch = x_batch.reshape(-1, x_batch.shape[-1])\n",
    "        x_batch = mel_spectrogram(x_batch)\n",
    "        x_batch = x_batch.reshape(x_batch.shape[0], 1, x_batch.shape[-2], x_batch.shape[-1])\n",
    "        \n",
    "        # calculate loss\n",
    "        y_pred = model(x_batch)\n",
    "        loss = loss_fn(y_pred, y_batch)\n",
    "\n",
    "        # add to list for f1 score\n",
    "        train_trues.append(y_batch.cpu())\n",
    "        train_preds.append(y_pred.cpu())\n",
    "        \n",
    "        correct_pred_train += count_correct(y_pred, y_batch)\n",
    "        total_pred_train += y_batch.shape[0]\n",
    "\n",
    "        # backpropagate error and update weights\n",
    "        optimiser.zero_grad()\n",
    "        loss.backward()\n",
    "        optimiser.step()\n",
    "        total_loss_train += loss.item()\n",
    "\n",
    "        \n",
    "        \n",
    "    print(f\"Training loss: {total_loss_train}, Training accuracy : {correct_pred_train/total_pred_train}\")\n",
    "    #print normalized loss\n",
    "    print(f\"Training loss normalized: {total_loss_train/len(train_data_loader)}\")\n",
    "    # print f1 score, precision, recall\n",
    "    # print(classification_report(torch.cat(train_trues).detach().cpu().numpy(), torch.argmax(torch.cat(train_preds), axis=1).detach().cpu().numpy()))\n",
    "    \n",
    "    total_loss_val = 0.0\n",
    "    correct_pred_val = 0.0\n",
    "    total_pred_val = 0\n",
    "\n",
    "    val_trues = []\n",
    "    val_preds = []\n",
    "\n",
    "    for x_batch, y_batch in tqdm(val_data_loader):\n",
    "        with torch.no_grad():\n",
    "            x_batch, y_batch = x_batch.to(device), y_batch.to(device)\n",
    "\n",
    "            x_batch = x_batch.reshape(-1, x_batch.shape[-1])\n",
    "            x_batch = mel_spectrogram(x_batch)\n",
    "            x_batch = x_batch.reshape(x_batch.shape[0], 1, x_batch.shape[-2], x_batch.shape[-1])\n",
    "\n",
    "            y_pred = model(x_batch)\n",
    "            loss = loss_fn(y_pred, y_batch)\n",
    "            total_loss_val += loss.item() \n",
    "            \n",
    "            val_trues.append(y_batch.cpu())\n",
    "            val_preds.append(y_pred.cpu())\n",
    "\n",
    "        correct_pred_val += count_correct(y_pred, y_batch)\n",
    "        total_pred_val += y_batch.shape[0]\n",
    "        \n",
    "    print(f\"Validataion loss: {total_loss_val}, Validation accuracy : {correct_pred_val/total_pred_val}\")\n",
    "    #print normalized loss\n",
    "    print(f\"Validation loss normalized: {total_loss_val/len(val_data_loader)}\")\n",
    "    #print f1 score, confusion matrix and precision, recall using sklearn and true and predicted values\n",
    "    # print(classification_report(torch.cat(val_trues).detach().cpu().numpy(), torch.argmax(torch.cat(val_preds), axis=1).detach().cpu().numpy()))\n",
    "    return total_loss_train/len(train_data_loader), correct_pred_train/total_pred_train, total_loss_val/len(val_data_loader), correct_pred_val/total_pred_val\n",
    "\n",
    "\n",
    "    \n",
    "def train(model, train_data_loader, val_data_loader, loss_fn, optimiser, device, epochs, do_augment):\n",
    "    writer = SummaryWriter(WRITER_PATH)\n",
    "    for i in range(epochs):\n",
    "        print(f\"Epoch {i+1}\")\n",
    "        train_loss, train_acc, val_loss, val_acc = train_single_epoch(model, train_data_loader, val_data_loader, loss_fn, optimiser, device)\n",
    "        writer.add_scalar(\"train/accuracy\", train_acc, i)\n",
    "        writer.add_scalar(\"train/loss\", train_loss, i)\n",
    "        writer.add_scalar(\"validation/accuracy\", val_acc, i)\n",
    "        writer.add_scalar(\"validation/loss\", val_loss, i)\n",
    "        \n",
    "        path = os.path.join(MODEL_FOLDER, f\"epoch_{i}.pth\")\n",
    "        torch.save(model.state_dict(), path)\n",
    "        print(f\"Saved at {path}\")\n",
    "        print(\"---------------------------\")\n",
    "    print(\"Finished training\")\n",
    "    print(\"---------------------------\")\n",
    "\n",
    "    \n",
    "    \n",
    "def evaluate(model, eval_data_loader, loss_fn, device):\n",
    "    print(\"Evaluating model\")\n",
    "\n",
    "    trues = []\n",
    "    preds =[]\n",
    "\n",
    "    total_loss = 0.0\n",
    "    correct_pred = 0.0\n",
    "    total_pred = 0\n",
    "    for x_batch, y_batch in tqdm(eval_data_loader):\n",
    "        with torch.no_grad():\n",
    "            x_batch, y_batch = x_batch.to(device), y_batch.to(device)\n",
    "\n",
    "            x_batch = x_batch.reshape(-1, x_batch.shape[-1])\n",
    "            x_batch = mel_spectrogram(x_batch)\n",
    "            x_batch = x_batch.reshape(x_batch.shape[0], 1, x_batch.shape[-2], x_batch.shape[-1])\n",
    "\n",
    "            y_pred = model(x_batch)\n",
    "            loss = loss_fn(y_pred, y_batch)\n",
    "\n",
    "            correct_pred += count_correct(y_pred, y_batch)\n",
    "            total_pred += y_batch.shape[0]\n",
    "\n",
    "            total_loss += loss.item()\n",
    "\n",
    "            trues += torch.clamp(y_batch, max=1)\n",
    "            preds += torch.clamp(torch.argmax(y_pred, axis = 1), max=1)    \n",
    "\n",
    "    print(f\"Evaluation loss: {total_loss}, Evaluation accuracy : {correct_pred/total_pred}\")\n",
    "    # print normalized loss\n",
    "    print(f\"Evaluation loss normalized: {total_loss/len(eval_data_loader)}\")\n",
    "    print(\"---------------------------\")        \n",
    "            \n",
    "    return np.array(trues), np.array(preds)\n",
    "        "
   ]
  },
  {
   "cell_type": "code",
   "execution_count": 13,
   "id": "b393f0aa",
   "metadata": {},
   "outputs": [
    {
     "name": "stdout",
     "output_type": "stream",
     "text": [
      "train data:  <__main__.CoughDataset object at 0x2a82779a0>\n"
     ]
    }
   ],
   "source": [
    "BATCH_SIZE = 256\n",
    "EPOCHS = 50\n",
    "MODEL_FOLDER = '../../models/CRNNA'\n",
    "\n",
    "train_data = CoughDataset(train_df,\n",
    "                        AUDIO_DIR,\n",
    "                        SAMPLE_RATE,\n",
    "                        NUM_SAMPLES,\n",
    "                        device,\n",
    "                        )\n",
    "print('train data: ', train_data)\n",
    "\n",
    "val_data = CoughDataset(val_df,\n",
    "                        AUDIO_DIR,\n",
    "                        SAMPLE_RATE,\n",
    "                        NUM_SAMPLES,\n",
    "                        device)\n",
    "\n",
    "test_data = CoughDataset(test_df,\n",
    "                        AUDIO_DIR,\n",
    "                        SAMPLE_RATE,\n",
    "                        NUM_SAMPLES,\n",
    "                        device)\n",
    "\n",
    "train_dataloader = DataLoader(train_data, batch_size=BATCH_SIZE,drop_last=True) \n",
    "val_dataloader = DataLoader(val_data, batch_size=BATCH_SIZE,drop_last=True) \n",
    "test_dataloader = DataLoader(test_data, batch_size=BATCH_SIZE,drop_last=True) \n",
    "\n",
    "# construct model and assign it to device\n",
    "model = CRNN(batch_size = BATCH_SIZE).to(device)\n",
    "\n",
    "# initialise loss funtion + optimiser\n",
    "#loss_fn = nn.CrossEntropyLoss(weight=train_data.label_weights)\n",
    "loss_fn = nn.CrossEntropyLoss()\n",
    "optimiser = torch.optim.Adam(model.parameters(), lr=1e-5)"
   ]
  },
  {
   "cell_type": "code",
   "execution_count": 15,
   "id": "849e78e9",
   "metadata": {},
   "outputs": [
    {
     "name": "stdout",
     "output_type": "stream",
     "text": [
      "Epoch 1\n"
     ]
    },
    {
     "name": "stderr",
     "output_type": "stream",
     "text": [
      "100%|██████████| 24/24 [01:02<00:00,  2.58s/it]\n"
     ]
    },
    {
     "name": "stdout",
     "output_type": "stream",
     "text": [
      "Training loss: 16.62392634153366, Training accuracy : 0.5564778447151184\n",
      "Training loss normalized: 0.6926635975639025\n"
     ]
    },
    {
     "name": "stderr",
     "output_type": "stream",
     "text": [
      "100%|██████████| 3/3 [00:06<00:00,  2.06s/it]\n"
     ]
    },
    {
     "name": "stdout",
     "output_type": "stream",
     "text": [
      "Validataion loss: 2.0717450976371765, Validation accuracy : 0.7877604365348816\n",
      "Validation loss normalized: 0.6905816992123922\n",
      "Saved at ../../models/CRNNA/epoch_0.pth\n",
      "---------------------------\n",
      "Epoch 2\n"
     ]
    },
    {
     "name": "stderr",
     "output_type": "stream",
     "text": [
      "100%|██████████| 24/24 [01:02<00:00,  2.61s/it]\n"
     ]
    },
    {
     "name": "stdout",
     "output_type": "stream",
     "text": [
      "Training loss: 16.608417689800262, Training accuracy : 0.5716145634651184\n",
      "Training loss normalized: 0.6920174037416776\n"
     ]
    },
    {
     "name": "stderr",
     "output_type": "stream",
     "text": [
      "100%|██████████| 3/3 [00:06<00:00,  2.04s/it]\n"
     ]
    },
    {
     "name": "stdout",
     "output_type": "stream",
     "text": [
      "Validataion loss: 2.0654884576797485, Validation accuracy : 0.8059895634651184\n",
      "Validation loss normalized: 0.6884961525599161\n",
      "Saved at ../../models/CRNNA/epoch_1.pth\n",
      "---------------------------\n",
      "Epoch 3\n"
     ]
    },
    {
     "name": "stderr",
     "output_type": "stream",
     "text": [
      "100%|██████████| 24/24 [01:03<00:00,  2.66s/it]\n"
     ]
    },
    {
     "name": "stdout",
     "output_type": "stream",
     "text": [
      "Training loss: 16.592859029769897, Training accuracy : 0.5817057490348816\n",
      "Training loss normalized: 0.6913691262404124\n"
     ]
    },
    {
     "name": "stderr",
     "output_type": "stream",
     "text": [
      "100%|██████████| 3/3 [00:06<00:00,  2.15s/it]\n"
     ]
    },
    {
     "name": "stdout",
     "output_type": "stream",
     "text": [
      "Validataion loss: 2.057356894016266, Validation accuracy : 0.8255208134651184\n",
      "Validation loss normalized: 0.6857856313387553\n",
      "Saved at ../../models/CRNNA/epoch_2.pth\n",
      "---------------------------\n",
      "Epoch 4\n"
     ]
    },
    {
     "name": "stderr",
     "output_type": "stream",
     "text": [
      "100%|██████████| 24/24 [01:03<00:00,  2.65s/it]\n"
     ]
    },
    {
     "name": "stdout",
     "output_type": "stream",
     "text": [
      "Training loss: 16.575126588344574, Training accuracy : 0.5869140625\n",
      "Training loss normalized: 0.6906302745143572\n"
     ]
    },
    {
     "name": "stderr",
     "output_type": "stream",
     "text": [
      "100%|██████████| 3/3 [00:06<00:00,  2.20s/it]\n"
     ]
    },
    {
     "name": "stdout",
     "output_type": "stream",
     "text": [
      "Validataion loss: 2.0469892621040344, Validation accuracy : 0.8385416865348816\n",
      "Validation loss normalized: 0.6823297540346781\n",
      "Saved at ../../models/CRNNA/epoch_3.pth\n",
      "---------------------------\n",
      "Epoch 5\n"
     ]
    },
    {
     "name": "stderr",
     "output_type": "stream",
     "text": [
      "100%|██████████| 24/24 [01:01<00:00,  2.56s/it]\n"
     ]
    },
    {
     "name": "stdout",
     "output_type": "stream",
     "text": [
      "Training loss: 16.55494922399521, Training accuracy : 0.5896809697151184\n",
      "Training loss normalized: 0.6897895509998003\n"
     ]
    },
    {
     "name": "stderr",
     "output_type": "stream",
     "text": [
      "100%|██████████| 3/3 [00:06<00:00,  2.14s/it]\n"
     ]
    },
    {
     "name": "stdout",
     "output_type": "stream",
     "text": [
      "Validataion loss: 2.034457564353943, Validation accuracy : 0.8489583134651184\n",
      "Validation loss normalized: 0.6781525214513143\n",
      "Saved at ../../models/CRNNA/epoch_4.pth\n",
      "---------------------------\n",
      "Epoch 6\n"
     ]
    },
    {
     "name": "stderr",
     "output_type": "stream",
     "text": [
      "100%|██████████| 24/24 [01:02<00:00,  2.60s/it]\n"
     ]
    },
    {
     "name": "stdout",
     "output_type": "stream",
     "text": [
      "Training loss: 16.533646941184998, Training accuracy : 0.5914713740348816\n",
      "Training loss normalized: 0.6889019558827082\n"
     ]
    },
    {
     "name": "stderr",
     "output_type": "stream",
     "text": [
      "100%|██████████| 3/3 [00:06<00:00,  2.09s/it]\n"
     ]
    },
    {
     "name": "stdout",
     "output_type": "stream",
     "text": [
      "Validataion loss: 2.021250307559967, Validation accuracy : 0.8541666865348816\n",
      "Validation loss normalized: 0.673750102519989\n",
      "Saved at ../../models/CRNNA/epoch_5.pth\n",
      "---------------------------\n",
      "Epoch 7\n"
     ]
    },
    {
     "name": "stderr",
     "output_type": "stream",
     "text": [
      "100%|██████████| 24/24 [01:01<00:00,  2.58s/it]\n"
     ]
    },
    {
     "name": "stdout",
     "output_type": "stream",
     "text": [
      "Training loss: 16.511882603168488, Training accuracy : 0.5939127802848816\n",
      "Training loss normalized: 0.6879951084653536\n"
     ]
    },
    {
     "name": "stderr",
     "output_type": "stream",
     "text": [
      "100%|██████████| 3/3 [00:06<00:00,  2.13s/it]\n"
     ]
    },
    {
     "name": "stdout",
     "output_type": "stream",
     "text": [
      "Validataion loss: 2.0079256296157837, Validation accuracy : 0.85546875\n",
      "Validation loss normalized: 0.6693085432052612\n",
      "Saved at ../../models/CRNNA/epoch_6.pth\n",
      "---------------------------\n",
      "Epoch 8\n"
     ]
    },
    {
     "name": "stderr",
     "output_type": "stream",
     "text": [
      "100%|██████████| 24/24 [01:03<00:00,  2.64s/it]\n"
     ]
    },
    {
     "name": "stdout",
     "output_type": "stream",
     "text": [
      "Training loss: 16.48981499671936, Training accuracy : 0.5930989384651184\n",
      "Training loss normalized: 0.6870756248633066\n"
     ]
    },
    {
     "name": "stderr",
     "output_type": "stream",
     "text": [
      "100%|██████████| 3/3 [00:06<00:00,  2.12s/it]\n"
     ]
    },
    {
     "name": "stdout",
     "output_type": "stream",
     "text": [
      "Validataion loss: 1.994690179824829, Validation accuracy : 0.8567708134651184\n",
      "Validation loss normalized: 0.6648967266082764\n",
      "Saved at ../../models/CRNNA/epoch_7.pth\n",
      "---------------------------\n",
      "Epoch 9\n"
     ]
    },
    {
     "name": "stderr",
     "output_type": "stream",
     "text": [
      "100%|██████████| 24/24 [01:03<00:00,  2.63s/it]\n"
     ]
    },
    {
     "name": "stdout",
     "output_type": "stream",
     "text": [
      "Training loss: 16.46759259700775, Training accuracy : 0.5945637822151184\n",
      "Training loss normalized: 0.6861496915419897\n"
     ]
    },
    {
     "name": "stderr",
     "output_type": "stream",
     "text": [
      "100%|██████████| 3/3 [00:06<00:00,  2.17s/it]\n"
     ]
    },
    {
     "name": "stdout",
     "output_type": "stream",
     "text": [
      "Validataion loss: 1.9813478589057922, Validation accuracy : 0.8567708134651184\n",
      "Validation loss normalized: 0.6604492863019308\n",
      "Saved at ../../models/CRNNA/epoch_8.pth\n",
      "---------------------------\n",
      "Epoch 10\n"
     ]
    },
    {
     "name": "stderr",
     "output_type": "stream",
     "text": [
      "100%|██████████| 24/24 [01:03<00:00,  2.65s/it]\n"
     ]
    },
    {
     "name": "stdout",
     "output_type": "stream",
     "text": [
      "Training loss: 16.444919168949127, Training accuracy : 0.59765625\n",
      "Training loss normalized: 0.6852049653728803\n"
     ]
    },
    {
     "name": "stderr",
     "output_type": "stream",
     "text": [
      "100%|██████████| 3/3 [00:06<00:00,  2.13s/it]\n"
     ]
    },
    {
     "name": "stdout",
     "output_type": "stream",
     "text": [
      "Validataion loss: 1.9681947827339172, Validation accuracy : 0.86328125\n",
      "Validation loss normalized: 0.6560649275779724\n",
      "Saved at ../../models/CRNNA/epoch_9.pth\n",
      "---------------------------\n",
      "Epoch 11\n"
     ]
    },
    {
     "name": "stderr",
     "output_type": "stream",
     "text": [
      "100%|██████████| 24/24 [01:03<00:00,  2.63s/it]\n"
     ]
    },
    {
     "name": "stdout",
     "output_type": "stream",
     "text": [
      "Training loss: 16.422044813632965, Training accuracy : 0.599609375\n",
      "Training loss normalized: 0.6842518672347069\n"
     ]
    },
    {
     "name": "stderr",
     "output_type": "stream",
     "text": [
      "100%|██████████| 3/3 [00:06<00:00,  2.24s/it]\n"
     ]
    },
    {
     "name": "stdout",
     "output_type": "stream",
     "text": [
      "Validataion loss: 1.9554871916770935, Validation accuracy : 0.8645833134651184\n",
      "Validation loss normalized: 0.6518290638923645\n",
      "Saved at ../../models/CRNNA/epoch_10.pth\n",
      "---------------------------\n",
      "Epoch 12\n"
     ]
    },
    {
     "name": "stderr",
     "output_type": "stream",
     "text": [
      " 38%|███▊      | 9/24 [00:24<00:40,  2.73s/it]"
     ]
    }
   ],
   "source": [
    "train(model, train_dataloader, val_dataloader, loss_fn, optimiser, device, EPOCHS, do_augment=True)"
   ]
  },
  {
   "cell_type": "code",
   "execution_count": 215,
   "id": "0be4c890",
   "metadata": {},
   "outputs": [
    {
     "name": "stdout",
     "output_type": "stream",
     "text": [
      "Evaluating model\n"
     ]
    },
    {
     "name": "stderr",
     "output_type": "stream",
     "text": [
      "100%|██████████| 72/72 [00:10<00:00,  6.73it/s]"
     ]
    },
    {
     "name": "stdout",
     "output_type": "stream",
     "text": [
      "Evaluation loss: 57.29608428478241, Evaluation accuracy : 0.753484308719635\n",
      "Evaluation loss normalized: 0.7957789483997557\n",
      "---------------------------\n"
     ]
    },
    {
     "name": "stderr",
     "output_type": "stream",
     "text": [
      "\n"
     ]
    }
   ],
   "source": [
    "from sklearn.metrics import ConfusionMatrixDisplay, confusion_matrix\n",
    "import numpy as np\n",
    "\n",
    "#set model to be the epoch 10 model in the models folder\n",
    "#model.load_state_dict(torch.load('../models/epoch_9.pth'))\n",
    "\n",
    "# evaluate model with test data using the loaded model\n",
    "trues, preds = evaluate(model, test_dataloader, loss_fn, device)\n"
   ]
  },
  {
   "cell_type": "code",
   "execution_count": 216,
   "id": "c4270da5",
   "metadata": {},
   "outputs": [],
   "source": [
    "from sklearn.metrics import ConfusionMatrixDisplay, confusion_matrix\n",
    "import numpy as np"
   ]
  },
  {
   "cell_type": "code",
   "execution_count": 235,
   "id": "92ad25a6",
   "metadata": {},
   "outputs": [],
   "source": [
    "from sklearn.metrics import plot_confusion_matrix\n",
    "\n",
    "mel_spectrogram = torchaudio.transforms.MelSpectrogram(\n",
    "    sample_rate=SAMPLE_RATE,\n",
    "    n_fft=1024,\n",
    "    hop_length=512,\n",
    "    n_mels=128\n",
    ")\n",
    "\n",
    "def evaluate_confusion(model, eval_data_loader, device):\n",
    "    trues = []\n",
    "    preds =[]\n",
    "    for x_batch, y_batch in tqdm(eval_data_loader):\n",
    "        with torch.no_grad():\n",
    "            x_batch, y_batch = x_batch.to(device), y_batch.to(device)\n",
    "\n",
    "            x_batch = x_batch.reshape(-1, x_batch.shape[-1])\n",
    "            x_batch = mel_spectrogram(x_batch)\n",
    "            x_batch = x_batch.reshape(x_batch.shape[0], 1, x_batch.shape[-2], x_batch.shape[-1])\n",
    "            \n",
    "            y_pred = model(x_batch)\n",
    "\n",
    "            trues += torch.clamp(y_batch, max=1)\n",
    "            preds += torch.clamp(torch.argmax(y_pred, axis = 1), max=1)            \n",
    "            \n",
    "    return np.array(trues), np.array(preds)"
   ]
  },
  {
   "cell_type": "code",
   "execution_count": 236,
   "id": "494fdd01",
   "metadata": {},
   "outputs": [
    {
     "name": "stderr",
     "output_type": "stream",
     "text": [
      "100%|██████████| 72/72 [00:11<00:00,  6.29it/s]\n"
     ]
    }
   ],
   "source": [
    "trues, preds = evaluate_confusion(model, test_dataloader, device)"
   ]
  },
  {
   "cell_type": "code",
   "execution_count": 237,
   "id": "2eba3ddf",
   "metadata": {},
   "outputs": [
    {
     "data": {
      "text/plain": [
       "<sklearn.metrics._plot.confusion_matrix.ConfusionMatrixDisplay at 0x148d29120>"
      ]
     },
     "execution_count": 237,
     "metadata": {},
     "output_type": "execute_result"
    },
    {
     "data": {
      "image/png": "[encoded data removed]",
      "text/plain": [
       "<Figure size 640x480 with 2 Axes>"
      ]
     },
     "metadata": {},
     "output_type": "display_data"
    }
   ],
   "source": [
    "cfm = confusion_matrix(trues, preds)\n",
    "ConfusionMatrixDisplay(cfm, display_labels=['healthy', 'COVID-19']).plot()"
   ]
  },
  {
   "cell_type": "code",
   "execution_count": 192,
   "id": "99a40673",
   "metadata": {},
   "outputs": [
    {
     "name": "stdout",
     "output_type": "stream",
     "text": [
      "              precision    recall  f1-score   support\n",
      "\n",
      "           0       0.58      0.68      0.63       315\n",
      "           1       0.61      0.50      0.55       315\n",
      "\n",
      "    accuracy                           0.59       630\n",
      "   macro avg       0.60      0.59      0.59       630\n",
      "weighted avg       0.60      0.59      0.59       630\n",
      "\n",
      "f1:  0.5886965865703377\n",
      "roc:  0.5920634920634921\n"
     ]
    },
    {
     "data": {
      "image/png": "[encoded data removed]",
      "text/plain": [
       "<Figure size 640x480 with 1 Axes>"
      ]
     },
     "metadata": {},
     "output_type": "display_data"
    }
   ],
   "source": [
    "# print classification report\n",
    "from sklearn.metrics import classification_report\n",
    "print(classification_report(trues, preds))\n",
    "\n",
    "# calculate f1 score\n",
    "from sklearn.metrics import f1_score\n",
    "print('f1: ', f1_score(trues, preds, average='macro'))\n",
    "\n",
    "#calculate and graph ROC AUC\n",
    "from sklearn.metrics import roc_auc_score, plot_roc_curve, roc_curve\n",
    "r_auc = roc_auc_score(trues, preds)\n",
    "print('roc: ', r_auc)\n",
    "\n",
    "fpr, tpr, thresholds = roc_curve(trues, preds)\n",
    "plt.plot(fpr, tpr, label='CNN prediction (AUROC = %0.3f)' % r_auc)\n",
    "plt.title('ROC Plot')\n",
    "plt.xlabel('False Positive Rate')\n",
    "plt.ylabel('True Positive Rate')\n",
    "plt.legend()\n",
    "plt.show()"
   ]
  }
 ],
 "metadata": {
  "kernelspec": {
   "display_name": "Python 3.10.6 ('.venv': venv)",
   "language": "python",
   "name": "python3"
  },
  "language_info": {
   "codemirror_mode": {
    "name": "ipython",
    "version": 3
   },
   "file_extension": ".py",
   "mimetype": "text/x-python",
   "name": "python",
   "nbconvert_exporter": "python",
   "pygments_lexer": "ipython3",
   "version": "3.10.6"
  },
  "vscode": {
   "interpreter": {
    "hash": "9f480ccb6be28d4b7a840fe3b1174df64fdfbdad14d75b02fbd7e3b419aecfda"
   }
  }
 },
 "nbformat": 4,
 "nbformat_minor": 5
}
