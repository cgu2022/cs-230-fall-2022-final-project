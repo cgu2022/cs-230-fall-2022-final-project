{
 "cells": [
  {
   "cell_type": "code",
   "execution_count": 29,
   "metadata": {},
   "outputs": [],
   "source": [
    "import os\n",
    "import torch\n",
    "from torch import nn\n",
    "from torch.utils.data import Dataset, DataLoader\n",
    "import pandas as pd\n",
    "from tqdm import tqdm\n",
    "import audiomentations\n",
    "from torch_audiomentations import Compose, PitchShift, TimeInversion, AddBackgroundNoise, AddColoredNoise, PolarityInversion\n",
    "import torchaudio\n",
    "import numpy as np\n",
    "import sys\n",
    "import matplotlib.pyplot as plt\n",
    "import tensorboard\n",
    "from torch.utils.tensorboard import SummaryWriter\n",
    "\n",
    "sys.path.insert(0, '../src')\n",
    "from segmentation import segment_cough\n",
    "\n",
    "WRITER_PATH =\"../logs/CRNN\""
   ]
  },
  {
   "cell_type": "code",
   "execution_count": 30,
   "metadata": {},
   "outputs": [],
   "source": [
    "# Adapted from https://github.com/musikalkemist/pytorchforaudio\n",
    "class CoughDataset(Dataset):\n",
    "\n",
    "    def __init__(self,\n",
    "                 annotations_df,\n",
    "                 audio_dir,\n",
    "                 target_sample_rate,\n",
    "                 num_samples,\n",
    "                 device,\n",
    "                ):\n",
    "        self.annotations = annotations_df\n",
    "        self.audio_dir = audio_dir\n",
    "        self.device = device\n",
    "        self.target_sample_rate = target_sample_rate\n",
    "        self.num_samples = num_samples\n",
    "        #self.label_dict = {'healthy':0, 'symptomatic':1, 'COVID-19':2}\n",
    "        self.label_dict = {'healthy':0, 'COVID-19':1}\n",
    "        self.label_weights = self._calculate_weights(annotations_df)\n",
    "\n",
    "\n",
    "    def __len__(self):\n",
    "        return len(self.annotations)\n",
    "\n",
    "    def __getitem__(self, index):\n",
    "        audio_sample_path = self._get_audio_sample_path(index)\n",
    "        label = self.label_dict[self._get_audio_sample_label(index)]\n",
    "        signal, sr = torchaudio.load(audio_sample_path)\n",
    "        \n",
    "        signal = signal.to(self.device)\n",
    "        signal = self._resample_if_necessary(signal, sr)\n",
    "        signal = self._mix_down_if_necessary(signal)\n",
    "        signal = self._cut_if_necessary(signal)\n",
    "        signal = self._right_pad_if_necessary(signal)\n",
    "\n",
    "        \n",
    "        return signal, label\n",
    "\n",
    "    def _cut_if_necessary(self, signal):\n",
    "        if signal.shape[1] > self.num_samples:\n",
    "            signal = signal[:, :self.num_samples]\n",
    "        return signal\n",
    "\n",
    "    def _right_pad_if_necessary(self, signal):\n",
    "        length_signal = signal.shape[1]\n",
    "        if length_signal < self.num_samples:\n",
    "            num_missing_samples = self.num_samples - length_signal\n",
    "            last_dim_padding = (0, num_missing_samples)\n",
    "            signal = torch.nn.functional.pad(signal, last_dim_padding)\n",
    "        return signal\n",
    "\n",
    "    def _resample_if_necessary(self, signal, sr):\n",
    "        #print('resampled signal')\n",
    "        if sr != self.target_sample_rate:\n",
    "            resampler = torchaudio.transforms.Resample(sr, self.target_sample_rate)\n",
    "            signal = resampler(signal)\n",
    "        return signal\n",
    "\n",
    "    def _mix_down_if_necessary(self, signal):\n",
    "        if signal.shape[0] > 1:\n",
    "            signal = torch.mean(signal, dim=0, keepdim=True)\n",
    "        return signal\n",
    "\n",
    "    def _get_audio_sample_path(self, index):\n",
    "        path = os.path.join(self.audio_dir, self.annotations.iloc[index, 0])+\".wav\"\n",
    "        return path\n",
    "\n",
    "\n",
    "    def _get_audio_sample_label(self, index):\n",
    "        return self.annotations.iloc[index, 9]\n",
    "\n",
    "    def _calculate_weights(self, annotation_df):\n",
    "        counts = annotation_df[\"status\"].value_counts()\n",
    "        total = len(annotation_df)\n",
    "        weights = (1-(counts/total))\n",
    "        weights /= weights.sum()\n",
    "        return torch.FloatTensor(weights)\n",
    "\n",
    "\n"
   ]
  },
  {
   "cell_type": "code",
   "execution_count": 31,
   "metadata": {},
   "outputs": [],
   "source": [
    "AUDIO_DIR = \"../valid_data/\"\n",
    "SAMPLE_RATE = 16000\n",
    "NUM_SAMPLES = SAMPLE_RATE*10\n",
    "\n",
    "if torch.cuda.is_available():\n",
    "    device = \"cuda\"\n",
    "else:\n",
    "    device = \"cpu\"\n",
    "\n",
    "train_df = pd.read_parquet(os.path.join(AUDIO_DIR, \"train_balanced_3500.parquet.gzip\"))\n",
    "val_df = pd.read_parquet(os.path.join(AUDIO_DIR, \"val_balanced_3500.parquet.gzip\"))\n",
    "test_df = pd.read_parquet(os.path.join(AUDIO_DIR, \"test_balanced_3500.parquet.gzip\"))\n",
    "\n",
    "\n",
    "# print(f\"There are {len(usd)} samples in the dataset.\")\n",
    "# signal, label = usd[0]"
   ]
  },
  {
   "cell_type": "code",
   "execution_count": 32,
   "metadata": {},
   "outputs": [],
   "source": [
    "class CRNN(torch.nn.Module):\n",
    "    def __init__(self, drop_p=0.0):\n",
    "        super().__init__()\n",
    "        channels = [1, 16, 32, 64, 128]\n",
    "        #hidden_state = [2]\n",
    "        # 4 conv blocks / flatten / linear / softmax\n",
    "\n",
    "        self.num_layers = 1\n",
    "        self.hidden_size = 256\n",
    "        self.embed_size = self.hidden_size * 2\n",
    "        self.source_sequence_length = 31\n",
    "        self.target_sequence_length = 1\n",
    "        self.batch_size = 16\n",
    "\n",
    "        self.conv1 = nn.Sequential(\n",
    "            nn.Conv2d(\n",
    "                in_channels = channels[0],\n",
    "                out_channels = channels[1],\n",
    "                kernel_size=3,\n",
    "                stride=2,\n",
    "                padding=0\n",
    "            ),\n",
    "            nn.ReLU(),\n",
    "            nn.MaxPool2d(kernel_size=2),\n",
    "            nn.BatchNorm2d(channels[1]),\n",
    "            nn.Dropout(p=drop_p)\n",
    "        )\n",
    "\n",
    "        self.conv2 = nn.Sequential(\n",
    "            nn.Conv2d(\n",
    "                in_channels = channels[1],\n",
    "                out_channels = channels[2],\n",
    "                kernel_size=3,\n",
    "                stride=2,\n",
    "                padding=0\n",
    "            ),\n",
    "            nn.ReLU(),\n",
    "            nn.MaxPool2d(kernel_size=2, stride=1),\n",
    "            nn.BatchNorm2d(channels[2]),\n",
    "            nn.Dropout(p=drop_p)\n",
    "        )\n",
    "        self.conv3 = nn.Sequential(\n",
    "            nn.Conv2d(\n",
    "                in_channels = channels[2],\n",
    "                out_channels = channels[3],\n",
    "                kernel_size=3,\n",
    "                stride=1,\n",
    "                padding=0\n",
    "            ),\n",
    "            nn.ReLU(),\n",
    "            nn.MaxPool2d(kernel_size=2, stride=1),\n",
    "            nn.BatchNorm2d(channels[3]),\n",
    "            nn.Dropout(p=drop_p)\n",
    "        )\n",
    "        self.conv4 = nn.Sequential(\n",
    "            nn.Conv2d(\n",
    "                in_channels = channels[3],\n",
    "                out_channels = channels[4],\n",
    "                kernel_size=3,\n",
    "                stride=1,\n",
    "                padding=0\n",
    "            ),\n",
    "            nn.ReLU(),\n",
    "            nn.MaxPool2d(kernel_size=2, stride=1),\n",
    "            nn.BatchNorm2d(channels[4]),\n",
    "            nn.Dropout(p=drop_p)\n",
    "        )\n",
    "        \n",
    "\n",
    "        # LSTM Section\n",
    "        self.LSTM_model = nn.LSTM(input_size=1024, hidden_size=256, bidirectional=True, batch_first=True)\n",
    "        self.Tanh = nn.Tanh()\n",
    "        \n",
    "        # Transition from attention to FC\n",
    "\n",
    "        self.linear_temporal = nn.Sequential(\n",
    "            nn.Linear(self.source_sequence_length, 1),\n",
    "            nn.ReLU()\n",
    "        )\n",
    "\n",
    "        # For Fully Connected Layer\n",
    "        self.flatten = nn.Flatten()\n",
    "        self.linear = nn.Linear(self.hidden_size * 2, 2)\n",
    "        self.softmax = nn.Softmax(dim=-1)\n",
    "        # self.linear = nn.Linear(self.embed_size, 1)\n",
    "        # self.sigmoid = nn.Sigmoid()\n",
    "\n",
    "    def forward(self, input_data):\n",
    "        #nomralization\n",
    "        std = input_data.std()\n",
    "        input_data -= input_data.mean()\n",
    "        input_data /= std\n",
    "        \n",
    "        x = self.conv1(input_data)\n",
    "        x = self.conv2(x)\n",
    "        x = self.conv3(x)\n",
    "        x = self.conv4(x)\n",
    "        #td = self.flatten(x)\n",
    "\n",
    "        # Preprocessing for the LSTM\n",
    "        td = torch.swapaxes(x, 1, 3) # [batch_size, 128, 8, 31]  --> [batch_size, 31, 8, 128]\n",
    "        td = torch.reshape(td, (td.shape[0], 31, -1)) # 128 channels * 8 height of each channel = 1024\n",
    "\n",
    "         # LSTM Section - Preparing for the LSTM\n",
    "        self.h_0 = nn.Parameter(torch.zeros(self.num_layers * 2, self.batch_size, self.hidden_size)).to(device) #hidden state\n",
    "        self.c_0 = nn.Parameter(torch.zeros(self.num_layers * 2, self.batch_size, self.hidden_size)).to(device) #internal state\n",
    "        \n",
    "        # LSTM\n",
    "        LSTM_output, (hn, cn) = self.LSTM_model(td, (self.h_0, self.c_0)) #lstm with input, hidden, and internal state\n",
    "        LSTM_output = self.Tanh(LSTM_output)\n",
    "        #print(\"LSTM Output Size:\", LSTM_output.size()) # [16, 31, 512]\n",
    "        # LSTM_Output: (31, 512)\n",
    "\n",
    "        # LSTM_output --> (512, 1)\n",
    "        #attn_output = torch.transpose(attn_output, 0, 1) # (31, 512) --> (512, 31)\n",
    "        #print(\"attn_output:\", attn_output.size())\n",
    "        attn_output = torch.swapaxes(LSTM_output, 1, 2)\n",
    "        #print(\"attn_output after swap:\", attn_output.size())\n",
    "        crunch = self.linear_temporal(attn_output)\n",
    "\n",
    "        # Final Fully Connnected Layer\n",
    "        x = self.flatten(crunch)\n",
    "        #x = torch.transpose(x, 0, 1)\n",
    "        #print(\"X transposed:\", x.size())\n",
    "        logits = self.linear(x)\n",
    "        #logits = x\n",
    "        predictions = self.softmax(logits)\n",
    "        #predictions = self.sigmoid(logits)\n",
    "\n",
    "        return predictions"
   ]
  },
  {
   "cell_type": "code",
   "execution_count": 33,
   "metadata": {},
   "outputs": [],
   "source": [
    "from sklearn.metrics import classification_report, confusion_matrix, f1_score\n",
    "\n",
    "\n",
    "mel_spectrogram = torchaudio.transforms.MelSpectrogram(\n",
    "    sample_rate=SAMPLE_RATE,\n",
    "    n_fft=1024,\n",
    "    hop_length=512,\n",
    "    n_mels=128\n",
    ").to(device)\n",
    "\n",
    "def create_data_loader(train_data, batch_size):\n",
    "    train_dataloader = DataLoader(train_data, batch_size=batch_size)\n",
    "    print('train_dataloader finished: ', train_dataloader)\n",
    "    return train_dataloader\n",
    "\n",
    "def count_correct(logits, y_true):\n",
    "    y_pred = torch.argmax(logits, axis = 1)\n",
    "    return torch.sum(y_pred==y_true)\n",
    "\n",
    "def train_single_epoch(model, train_data_loader, val_data_loader, loss_fn, optimiser, device, do_augment=False):\n",
    "    total_loss_train = 0.0\n",
    "    correct_pred_train = 0.0\n",
    "    total_pred_train = 0\n",
    "\n",
    "    train_trues = []\n",
    "    train_preds = []\n",
    "\n",
    "    augmentations = Compose(\n",
    "            transforms=[\n",
    "                PitchShift(\n",
    "                    mode = \"per_example\",\n",
    "                    p=0.5,\n",
    "                    sample_rate=SAMPLE_RATE,\n",
    "                    output_type=\"tensor\"\n",
    "                    ),\n",
    "                TimeInversion(\n",
    "                    mode = \"per_example\",\n",
    "                    p=0.5,\n",
    "                    output_type=\"tensor\"\n",
    "                ),\n",
    "                AddColoredNoise(\n",
    "                    mode = \"per_example\",\n",
    "                    p=0.5,\n",
    "                    sample_rate=SAMPLE_RATE,\n",
    "                    output_type=\"tensor\"\n",
    "                ),\n",
    "                PolarityInversion(\n",
    "                    mode=\"per_example\",\n",
    "                    p=0.5,\n",
    "                    output_type=\"tensor\"\n",
    "                ), \n",
    "\n",
    "            ], output_type=\"tensor\"\n",
    "        )\n",
    "\n",
    "    for x_batch, y_batch in tqdm(train_data_loader):\n",
    "        x_batch, y_batch = x_batch.to(device), y_batch.to(device)\n",
    "        \n",
    "        if x_batch.shape[0] < 16:\n",
    "            continue\n",
    "\n",
    "        if do_augment:\n",
    "            x_batch = augmentations(x_batch, SAMPLE_RATE)\n",
    "        \n",
    "\n",
    "        x_batch = x_batch.reshape(-1, x_batch.shape[-1])\n",
    "        x_batch = mel_spectrogram(x_batch)\n",
    "        x_batch = x_batch.reshape(x_batch.shape[0], 1, x_batch.shape[-2], x_batch.shape[-1])\n",
    "        \n",
    "        # calculate loss\n",
    "        y_pred = model(x_batch)\n",
    "        loss = loss_fn(y_pred, y_batch)\n",
    "\n",
    "        # add to list for f1 score\n",
    "        train_trues.append(y_batch.cpu())\n",
    "        train_preds.append(y_pred.cpu())\n",
    "        \n",
    "        correct_pred_train += count_correct(y_pred, y_batch)\n",
    "        total_pred_train += y_batch.shape[0]\n",
    "\n",
    "        # backpropagate error and update weights\n",
    "        optimiser.zero_grad()\n",
    "        loss.backward()\n",
    "        optimiser.step()\n",
    "        total_loss_train += loss.item()\n",
    "\n",
    "        \n",
    "        \n",
    "    print(f\"Training loss: {total_loss_train}, Training accuracy : {correct_pred_train/total_pred_train}\")\n",
    "    #print normalized loss\n",
    "    print(f\"Training loss normalized: {total_loss_train/len(train_data_loader)}\")\n",
    "    #print f1 score, precision, recall\n",
    "    #print(confusion_matrix(torch.cat(train_trues).detach().cpu().numpy(), torch.cat(train_preds).detach().cpu().numpy()))\n",
    "    #print(f1_score(torch.cat(train_trues).detach().cpu().numpy(), torch.argmax(torch.cat(train_preds), axis=1).detach().cpu().numpy(), average='macro'))\n",
    "    # print(classification_report(torch.cat(train_trues).detach().cpu().numpy(), torch.argmax(torch.cat(train_preds), axis=1).detach().cpu().numpy()))\n",
    "    \n",
    "    total_loss_val = 0.0\n",
    "    correct_pred_val = 0.0\n",
    "    total_pred_val = 0\n",
    "\n",
    "    val_trues = []\n",
    "    val_preds = []\n",
    "\n",
    "    for x_batch, y_batch in tqdm(val_data_loader):\n",
    "        with torch.no_grad():\n",
    "            x_batch, y_batch = x_batch.to(device), y_batch.to(device)\n",
    "\n",
    "            if x_batch.shape[0] < 16:\n",
    "                continue\n",
    "\n",
    "            x_batch = x_batch.reshape(-1, x_batch.shape[-1])\n",
    "            x_batch = mel_spectrogram(x_batch)\n",
    "            x_batch = x_batch.reshape(x_batch.shape[0], 1, x_batch.shape[-2], x_batch.shape[-1])\n",
    "\n",
    "            y_pred = model(x_batch)\n",
    "            loss = loss_fn(y_pred, y_batch)\n",
    "            total_loss_val += loss.item() \n",
    "            \n",
    "            val_trues.append(y_batch.cpu())\n",
    "            val_preds.append(y_pred.cpu())\n",
    "\n",
    "        correct_pred_val += count_correct(y_pred, y_batch)\n",
    "        total_pred_val += y_batch.shape[0]\n",
    "        \n",
    "    print(f\"Validataion loss: {total_loss_val}, Validation accuracy : {correct_pred_val/total_pred_val}\")\n",
    "    #print normalized loss\n",
    "    print(f\"Validation loss normalized: {total_loss_val/len(val_data_loader)}\")\n",
    "    #print f1 score, confusion matrix and precision, recall using sklearn and true and predicted values\n",
    "    # print(classification_report(torch.cat(val_trues).detach().cpu().numpy(), torch.argmax(torch.cat(val_preds), axis=1).detach().cpu().numpy()))\n",
    "    return total_loss_train/len(train_data_loader), correct_pred_train/total_pred_train, total_loss_val/len(val_data_loader), correct_pred_val/total_pred_val\n",
    "\n",
    "\n",
    "    \n",
    "def train(model, train_data_loader, val_data_loader, loss_fn, optimiser, device, epochs, do_augment):\n",
    "    writer = SummaryWriter(WRITER_PATH)\n",
    "    for i in range(epochs):\n",
    "        print(f\"Epoch {i+1}\")\n",
    "        train_loss, train_acc, val_loss, val_acc = train_single_epoch(model, train_data_loader, val_data_loader, loss_fn, optimiser, device)\n",
    "        writer.add_scalar(\"train/accuracy\", train_acc, i)\n",
    "        writer.add_scalar(\"train/loss\", train_loss, i)\n",
    "        writer.add_scalar(\"validation/accuracy\", val_acc, i)\n",
    "        writer.add_scalar(\"validation/loss\", val_loss, i)\n",
    "        \n",
    "        path = os.path.join(MODEL_FOLDER, f\"epoch_{i}.pth\")\n",
    "        torch.save(model.state_dict(), path)\n",
    "        print(f\"Saved at {path}\")\n",
    "        print(\"---------------------------\")\n",
    "    print(\"Finished training\")\n",
    "    print(\"---------------------------\")\n",
    "\n",
    "    \n",
    "    \n",
    "def evaluate(model, eval_data_loader, loss_fn, device):\n",
    "    print(\"Evaluating model\")\n",
    "    total_loss = 0.0\n",
    "    correct_pred = 0.0\n",
    "    total_pred = 0\n",
    "    for x_batch, y_batch in tqdm(eval_data_loader):\n",
    "        with torch.no_grad():\n",
    "            x_batch, y_batch = x_batch.to(device), y_batch.to(device)\n",
    "\n",
    "            if x_batch.shape[0] < 16:\n",
    "                continue\n",
    "\n",
    "            x_batch = x_batch.reshape(-1, x_batch.shape[-1])\n",
    "            x_batch = mel_spectrogram(x_batch)\n",
    "            x_batch = x_batch.reshape(x_batch.shape[0], 1, x_batch.shape[-2], x_batch.shape[-1])\n",
    "\n",
    "            y_pred = model(x_batch)\n",
    "            loss = loss_fn(y_pred, y_batch)\n",
    "\n",
    "            correct_pred += count_correct(y_pred, y_batch)\n",
    "            total_pred += y_batch.shape[0]\n",
    "\n",
    "            total_loss += loss.item()\n",
    "        \n",
    "    print(f\"Evaluation loss: {total_loss}, Evaluation accuracy : {correct_pred/total_pred}\")\n",
    "    print(\"---------------------------\")"
   ]
  },
  {
   "cell_type": "code",
   "execution_count": 34,
   "metadata": {},
   "outputs": [
    {
     "name": "stdout",
     "output_type": "stream",
     "text": [
      "train data:  <__main__.CoughDataset object at 0x2a5359090>\n",
      "train_dataloader finished:  <torch.utils.data.dataloader.DataLoader object at 0x2a78d4340>\n",
      "train_dataloader finished:  <torch.utils.data.dataloader.DataLoader object at 0x17e99ba60>\n",
      "train_dataloader finished:  <torch.utils.data.dataloader.DataLoader object at 0x2a78e4ac0>\n"
     ]
    }
   ],
   "source": [
    "BATCH_SIZE =16\n",
    "EPOCHS = 10\n",
    "MODEL_FOLDER = '../models/'\n",
    "\n",
    "train_data = CoughDataset(train_df,\n",
    "                        AUDIO_DIR,\n",
    "                        # mel_spectrogram,\n",
    "                        SAMPLE_RATE,\n",
    "                        NUM_SAMPLES,\n",
    "                        device,\n",
    "                        # augment = True\n",
    "                        )\n",
    "print('train data: ', train_data)\n",
    "\n",
    "val_data = CoughDataset(val_df,\n",
    "                        AUDIO_DIR,\n",
    "                        # mel_spectrogram,\n",
    "                        SAMPLE_RATE,\n",
    "                        NUM_SAMPLES,\n",
    "                        device)\n",
    "\n",
    "test_data = CoughDataset(test_df,\n",
    "                        AUDIO_DIR,\n",
    "                        # mel_spectrogram,\n",
    "                        SAMPLE_RATE,\n",
    "                        NUM_SAMPLES,\n",
    "                        device)\n",
    "\n",
    "train_dataloader = create_data_loader(train_data, BATCH_SIZE)\n",
    "val_dataloader = create_data_loader(val_data, BATCH_SIZE)\n",
    "test_dataloader = create_data_loader(val_data, BATCH_SIZE)\n",
    "\n",
    "# construct model and assign it to device\n",
    "model = CRNN().to(device)\n",
    "\n",
    "# initialise loss funtion + optimiser\n",
    "#loss_fn = nn.CrossEntropyLoss(weight=train_data.label_weights)\n",
    "loss_fn = nn.CrossEntropyLoss()\n",
    "optimiser = torch.optim.Adam(model.parameters(), lr=1e-4)"
   ]
  },
  {
   "cell_type": "code",
   "execution_count": 35,
   "metadata": {},
   "outputs": [
    {
     "name": "stdout",
     "output_type": "stream",
     "text": [
      "Epoch 1\n"
     ]
    },
    {
     "name": "stderr",
     "output_type": "stream",
     "text": [
      "100%|██████████| 355/355 [01:07<00:00,  5.25it/s]\n"
     ]
    },
    {
     "name": "stdout",
     "output_type": "stream",
     "text": [
      "Training loss: 242.06896835565567, Training accuracy : 0.5688559412956238\n",
      "Training loss normalized: 0.6818844179032554\n"
     ]
    },
    {
     "name": "stderr",
     "output_type": "stream",
     "text": [
      "100%|██████████| 40/40 [00:05<00:00,  7.21it/s]\n"
     ]
    },
    {
     "name": "stdout",
     "output_type": "stream",
     "text": [
      "Validataion loss: 26.05956321954727, Validation accuracy : 0.6330128312110901\n",
      "Validation loss normalized: 0.6514890804886818\n",
      "Saved at ../models/epoch_0.pth\n",
      "---------------------------\n",
      "Epoch 2\n"
     ]
    },
    {
     "name": "stderr",
     "output_type": "stream",
     "text": [
      "100%|██████████| 355/355 [01:07<00:00,  5.27it/s]\n"
     ]
    },
    {
     "name": "stdout",
     "output_type": "stream",
     "text": [
      "Training loss: 219.82579082250595, Training accuracy : 0.7123940587043762\n",
      "Training loss normalized: 0.619227579781707\n"
     ]
    },
    {
     "name": "stderr",
     "output_type": "stream",
     "text": [
      "100%|██████████| 40/40 [00:05<00:00,  7.20it/s]\n"
     ]
    },
    {
     "name": "stdout",
     "output_type": "stream",
     "text": [
      "Validataion loss: 23.352455288171768, Validation accuracy : 0.7323718070983887\n",
      "Validation loss normalized: 0.5838113822042942\n",
      "Saved at ../models/epoch_1.pth\n",
      "---------------------------\n",
      "Epoch 3\n"
     ]
    },
    {
     "name": "stderr",
     "output_type": "stream",
     "text": [
      "100%|██████████| 355/355 [01:06<00:00,  5.34it/s]\n"
     ]
    },
    {
     "name": "stdout",
     "output_type": "stream",
     "text": [
      "Training loss: 174.27442198991776, Training accuracy : 0.8515183329582214\n",
      "Training loss normalized: 0.4909138647603317\n"
     ]
    },
    {
     "name": "stderr",
     "output_type": "stream",
     "text": [
      "100%|██████████| 40/40 [00:05<00:00,  7.02it/s]\n"
     ]
    },
    {
     "name": "stdout",
     "output_type": "stream",
     "text": [
      "Validataion loss: 19.63731014728546, Validation accuracy : 0.8285256624221802\n",
      "Validation loss normalized: 0.4909327536821365\n",
      "Saved at ../models/epoch_2.pth\n",
      "---------------------------\n",
      "Epoch 4\n"
     ]
    },
    {
     "name": "stderr",
     "output_type": "stream",
     "text": [
      "100%|██████████| 355/355 [01:07<00:00,  5.25it/s]\n"
     ]
    },
    {
     "name": "stdout",
     "output_type": "stream",
     "text": [
      "Training loss: 136.8855900168419, Training accuracy : 0.9473869800567627\n",
      "Training loss normalized: 0.3855932113150476\n"
     ]
    },
    {
     "name": "stderr",
     "output_type": "stream",
     "text": [
      "100%|██████████| 40/40 [00:05<00:00,  7.18it/s]\n"
     ]
    },
    {
     "name": "stdout",
     "output_type": "stream",
     "text": [
      "Validataion loss: 17.186310350894928, Validation accuracy : 0.879807710647583\n",
      "Validation loss normalized: 0.4296577587723732\n",
      "Saved at ../models/epoch_3.pth\n",
      "---------------------------\n",
      "Epoch 5\n"
     ]
    },
    {
     "name": "stderr",
     "output_type": "stream",
     "text": [
      "100%|██████████| 355/355 [01:07<00:00,  5.30it/s]\n"
     ]
    },
    {
     "name": "stdout",
     "output_type": "stream",
     "text": [
      "Training loss: 121.36302882432938, Training accuracy : 0.9798728823661804\n",
      "Training loss normalized: 0.34186768682909685\n"
     ]
    },
    {
     "name": "stderr",
     "output_type": "stream",
     "text": [
      "100%|██████████| 40/40 [00:05<00:00,  7.01it/s]\n"
     ]
    },
    {
     "name": "stdout",
     "output_type": "stream",
     "text": [
      "Validataion loss: 16.526619374752045, Validation accuracy : 0.8878205418586731\n",
      "Validation loss normalized: 0.41316548436880113\n",
      "Saved at ../models/epoch_4.pth\n",
      "---------------------------\n",
      "Epoch 6\n"
     ]
    },
    {
     "name": "stderr",
     "output_type": "stream",
     "text": [
      "100%|██████████| 355/355 [01:06<00:00,  5.33it/s]\n"
     ]
    },
    {
     "name": "stdout",
     "output_type": "stream",
     "text": [
      "Training loss: 117.14359033107758, Training accuracy : 0.9874646663665771\n",
      "Training loss normalized: 0.32998194459458474\n"
     ]
    },
    {
     "name": "stderr",
     "output_type": "stream",
     "text": [
      "100%|██████████| 40/40 [00:06<00:00,  6.50it/s]\n"
     ]
    },
    {
     "name": "stdout",
     "output_type": "stream",
     "text": [
      "Validataion loss: 15.93812420964241, Validation accuracy : 0.9070512652397156\n",
      "Validation loss normalized: 0.39845310524106026\n",
      "Saved at ../models/epoch_5.pth\n",
      "---------------------------\n",
      "Epoch 7\n"
     ]
    },
    {
     "name": "stderr",
     "output_type": "stream",
     "text": [
      "100%|██████████| 355/355 [01:07<00:00,  5.23it/s]\n"
     ]
    },
    {
     "name": "stdout",
     "output_type": "stream",
     "text": [
      "Training loss: 115.61498281359673, Training accuracy : 0.9908192157745361\n",
      "Training loss normalized: 0.32567600792562457\n"
     ]
    },
    {
     "name": "stderr",
     "output_type": "stream",
     "text": [
      "100%|██████████| 40/40 [00:06<00:00,  6.19it/s]\n"
     ]
    },
    {
     "name": "stdout",
     "output_type": "stream",
     "text": [
      "Validataion loss: 17.500332206487656, Validation accuracy : 0.8573718070983887\n",
      "Validation loss normalized: 0.4375083051621914\n",
      "Saved at ../models/epoch_6.pth\n",
      "---------------------------\n",
      "Epoch 8\n"
     ]
    },
    {
     "name": "stderr",
     "output_type": "stream",
     "text": [
      "100%|██████████| 355/355 [01:14<00:00,  4.78it/s]\n"
     ]
    },
    {
     "name": "stdout",
     "output_type": "stream",
     "text": [
      "Training loss: 115.6332388818264, Training accuracy : 0.9911723136901855\n",
      "Training loss normalized: 0.32572743346993355\n"
     ]
    },
    {
     "name": "stderr",
     "output_type": "stream",
     "text": [
      "100%|██████████| 40/40 [00:06<00:00,  6.64it/s]\n"
     ]
    },
    {
     "name": "stdout",
     "output_type": "stream",
     "text": [
      "Validataion loss: 15.411401838064194, Validation accuracy : 0.9134615659713745\n",
      "Validation loss normalized: 0.38528504595160484\n",
      "Saved at ../models/epoch_7.pth\n",
      "---------------------------\n",
      "Epoch 9\n"
     ]
    },
    {
     "name": "stderr",
     "output_type": "stream",
     "text": [
      "100%|██████████| 355/355 [01:12<00:00,  4.88it/s]\n"
     ]
    },
    {
     "name": "stdout",
     "output_type": "stream",
     "text": [
      "Training loss: 114.30594909191132, Training accuracy : 0.9924082159996033\n",
      "Training loss normalized: 0.3219885889912995\n"
     ]
    },
    {
     "name": "stderr",
     "output_type": "stream",
     "text": [
      "100%|██████████| 40/40 [00:06<00:00,  6.51it/s]\n"
     ]
    },
    {
     "name": "stdout",
     "output_type": "stream",
     "text": [
      "Validataion loss: 14.939769297838211, Validation accuracy : 0.9358974099159241\n",
      "Validation loss normalized: 0.37349423244595525\n",
      "Saved at ../models/epoch_8.pth\n",
      "---------------------------\n",
      "Epoch 10\n"
     ]
    },
    {
     "name": "stderr",
     "output_type": "stream",
     "text": [
      "100%|██████████| 355/355 [01:13<00:00,  4.81it/s]\n"
     ]
    },
    {
     "name": "stdout",
     "output_type": "stream",
     "text": [
      "Training loss: 113.68875086307526, Training accuracy : 0.9934675097465515\n",
      "Training loss normalized: 0.3202500024311979\n"
     ]
    },
    {
     "name": "stderr",
     "output_type": "stream",
     "text": [
      "100%|██████████| 40/40 [00:06<00:00,  6.43it/s]\n"
     ]
    },
    {
     "name": "stdout",
     "output_type": "stream",
     "text": [
      "Validataion loss: 15.124564051628113, Validation accuracy : 0.9262820482254028\n",
      "Validation loss normalized: 0.37811410129070283\n",
      "Saved at ../models/epoch_9.pth\n",
      "---------------------------\n",
      "Finished training\n",
      "---------------------------\n"
     ]
    }
   ],
   "source": [
    "train(model, train_dataloader, val_dataloader, loss_fn, optimiser, device, EPOCHS, do_augment=True)"
   ]
  },
  {
   "cell_type": "code",
   "execution_count": 36,
   "metadata": {},
   "outputs": [
    {
     "name": "stdout",
     "output_type": "stream",
     "text": [
      "Evaluating model\n"
     ]
    },
    {
     "name": "stderr",
     "output_type": "stream",
     "text": [
      "100%|██████████| 40/40 [00:06<00:00,  6.02it/s]"
     ]
    },
    {
     "name": "stdout",
     "output_type": "stream",
     "text": [
      "Evaluation loss: 15.124564051628113, Evaluation accuracy : 0.9262820482254028\n",
      "---------------------------\n"
     ]
    },
    {
     "name": "stderr",
     "output_type": "stream",
     "text": [
      "\n"
     ]
    }
   ],
   "source": [
    "evaluate(model, test_dataloader, loss_fn, device)"
   ]
  },
  {
   "cell_type": "code",
   "execution_count": 37,
   "metadata": {},
   "outputs": [],
   "source": [
    "from sklearn.metrics import ConfusionMatrixDisplay, confusion_matrix\n",
    "import numpy as np"
   ]
  },
  {
   "cell_type": "code",
   "execution_count": 38,
   "metadata": {},
   "outputs": [],
   "source": [
    "from sklearn.metrics import plot_confusion_matrix\n",
    "\n",
    "mel_spectrogram = torchaudio.transforms.MelSpectrogram(\n",
    "    sample_rate=SAMPLE_RATE,\n",
    "    n_fft=1024,\n",
    "    hop_length=512,\n",
    "    n_mels=128\n",
    ")\n",
    "\n",
    "def evaluate_confusion(model, eval_data_loader, device):\n",
    "    trues = []\n",
    "    preds =[]\n",
    "    for x_batch, y_batch in tqdm(eval_data_loader):\n",
    "        with torch.no_grad():\n",
    "            if x_batch.shape[0] < 16:\n",
    "                continue\n",
    "            x_batch, y_batch = x_batch.to(device), y_batch.to(device)\n",
    "\n",
    "            x_batch = x_batch.reshape(-1, x_batch.shape[-1])\n",
    "            #print('x_batch after (batch*channel, time): ', x_batch.shape)\n",
    "            x_batch = mel_spectrogram(x_batch)\n",
    "            #print('x_batch after mel: ', x_batch.shape)\n",
    "            x_batch = x_batch.reshape(x_batch.shape[0], 1, x_batch.shape[-2], x_batch.shape[-1])\n",
    "            \n",
    "            # calculate loss\n",
    "            y_pred = model(x_batch)\n",
    "\n",
    "\n",
    "            trues += torch.clamp(y_batch, max=1)\n",
    "\n",
    "\n",
    "            preds += torch.clamp(torch.argmax(y_pred, axis = 1), max=1)\n",
    "            \n",
    "            \n",
    "    return np.array(trues), np.array(preds)\n",
    "        \n",
    "\n",
    "\n"
   ]
  },
  {
   "cell_type": "code",
   "execution_count": 39,
   "metadata": {},
   "outputs": [
    {
     "name": "stderr",
     "output_type": "stream",
     "text": [
      "100%|██████████| 40/40 [00:06<00:00,  6.36it/s]\n"
     ]
    }
   ],
   "source": [
    "trues, preds = evaluate_confusion(model, test_dataloader, device)"
   ]
  },
  {
   "cell_type": "code",
   "execution_count": 40,
   "metadata": {},
   "outputs": [
    {
     "data": {
      "text/plain": [
       "<sklearn.metrics._plot.confusion_matrix.ConfusionMatrixDisplay at 0x2a5359cf0>"
      ]
     },
     "execution_count": 40,
     "metadata": {},
     "output_type": "execute_result"
    },
    {
     "data": {
      "image/png": "[encoded data removed]",
      "text/plain": [
       "<Figure size 640x480 with 2 Axes>"
      ]
     },
     "metadata": {},
     "output_type": "display_data"
    }
   ],
   "source": [
    "cfm = confusion_matrix(trues, preds)\n",
    "#ConfusionMatrixDisplay(cfm, display_labels=['healthy', 'symptomatic', 'COVID-19']).plot()\n",
    "ConfusionMatrixDisplay(cfm, display_labels=['healthy', 'COVID-19']).plot()"
   ]
  },
  {
   "cell_type": "code",
   "execution_count": 41,
   "metadata": {},
   "outputs": [
    {
     "name": "stdout",
     "output_type": "stream",
     "text": [
      "              precision    recall  f1-score   support\n",
      "\n",
      "           0       0.97      0.88      0.92       312\n",
      "           1       0.89      0.98      0.93       312\n",
      "\n",
      "    accuracy                           0.93       624\n",
      "   macro avg       0.93      0.93      0.93       624\n",
      "weighted avg       0.93      0.93      0.93       624\n",
      "\n",
      "f1:  0.9260876730388925\n",
      "roc:  0.9262820512820513\n"
     ]
    },
    {
     "data": {
      "image/png": "[encoded data removed]",
      "text/plain": [
       "<Figure size 640x480 with 1 Axes>"
      ]
     },
     "metadata": {},
     "output_type": "display_data"
    }
   ],
   "source": [
    "# print classification report\n",
    "from sklearn.metrics import classification_report\n",
    "print(classification_report(trues, preds))\n",
    "\n",
    "# calculate f1 score\n",
    "from sklearn.metrics import f1_score\n",
    "print('f1: ', f1_score(trues, preds, average='macro'))\n",
    "\n",
    "#calculate and graph ROC AUC\n",
    "from sklearn.metrics import roc_auc_score, plot_roc_curve, roc_curve\n",
    "r_auc = roc_auc_score(trues, preds)\n",
    "print('roc: ', r_auc)\n",
    "\n",
    "fpr, tpr, thresholds = roc_curve(trues, preds)\n",
    "plt.plot(fpr, tpr, label='CNN prediction (AUROC = %0.3f)' % r_auc)\n",
    "# Title\n",
    "plt.title('ROC Plot')\n",
    "# Axis labels\n",
    "plt.xlabel('False Positive Rate')\n",
    "plt.ylabel('True Positive Rate')\n",
    "# Show legend\n",
    "plt.legend() # \n",
    "# Show plot\n",
    "plt.show()"
   ]
  }
 ],
 "metadata": {
  "kernelspec": {
   "display_name": "Python 3.10.6 ('.venv': venv)",
   "language": "python",
   "name": "python3"
  },
  "language_info": {
   "codemirror_mode": {
    "name": "ipython",
    "version": 3
   },
   "file_extension": ".py",
   "mimetype": "text/x-python",
   "name": "python",
   "nbconvert_exporter": "python",
   "pygments_lexer": "ipython3",
   "version": "3.10.6"
  },
  "orig_nbformat": 4,
  "vscode": {
   "interpreter": {
    "hash": "9f480ccb6be28d4b7a840fe3b1174df64fdfbdad14d75b02fbd7e3b419aecfda"
   }
  }
 },
 "nbformat": 4,
 "nbformat_minor": 2
}
