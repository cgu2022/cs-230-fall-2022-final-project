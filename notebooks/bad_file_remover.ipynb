{
 "cells": [
  {
   "cell_type": "markdown",
   "metadata": {},
   "source": [
    "# Dataset Preprocessing\n",
    "The Coughvid Dataset comes with some corrupted wav files. This notebook finds the corrupted files and removes them from the dataset.\n",
    "\n"
   ]
  },
  {
   "cell_type": "code",
   "execution_count": null,
   "metadata": {},
   "outputs": [],
   "source": [
    "import os\n",
    "import torch\n",
    "from torch import nn\n",
    "from torch.utils.data import Dataset, DataLoader\n",
    "import pandas as pd\n",
    "from tqdm import tqdm\n",
    "# import audiomentations\n",
    "# from audiomentations import Compose, AddGaussianNoise, PitchShift\n",
    "# import torch_audiomentations\n",
    "# from torch_audiomentations import Compose, AddGaussianNoise, PitchShift\n",
    "import torchaudio\n",
    "import subprocess"
   ]
  },
  {
   "cell_type": "markdown",
   "metadata": {},
   "source": [
    "1. Find the bad wav files."
   ]
  },
  {
   "cell_type": "code",
   "execution_count": null,
   "metadata": {},
   "outputs": [],
   "source": [
    "train_df = pd.read_parquet(os.path.join(AUDIO_DIR, \"train.parquet.gzip\"))\n",
    "all_df = pd.read_parquet(os.path.join(AUDIO_DIR, \"metadata_compiled_valid.parquet.gzip\"))\n",
    "# loop through all samples and load\n",
    "error_files = []\n",
    "error_labels = []\n",
    "for i in tqdm(range(len(all_df))):\n",
    "    path = os.path.join(AUDIO_DIR, all_df.iloc[i, 0])+\".wav\"\n",
    "    label = all_df.iloc[i, 9]\n",
    "    try:\n",
    "        audio, sr = torchaudio.load(path)\n",
    "    except:\n",
    "        #print(f\"Error loading {path}\")\n",
    "        error_files.append(path)\n",
    "        error_labels.append(label)"
   ]
  },
  {
   "cell_type": "markdown",
   "metadata": {},
   "source": [
    "2. Count how many bad wav files there are"
   ]
  },
  {
   "cell_type": "code",
   "execution_count": null,
   "metadata": {},
   "outputs": [],
   "source": [
    "print('Number of bad wav files in all:', len(error_files))\n",
    "#count how many of each label\n",
    "healthy = 0\n",
    "covid = 0\n",
    "symptomatic = 0\n",
    "for label in error_labels:\n",
    "    if label == 'healthy':\n",
    "        healthy += 1\n",
    "    elif label == 'COVID-19':\n",
    "        covid += 1\n",
    "    elif label == 'symptomatic':\n",
    "        symptomatic += 1\n",
    "print('Number of bad healthy samples:', healthy)\n",
    "print('Number of bad covid samples:', covid)\n",
    "print('Number of bad symptomatic samples:', symptomatic)\n",
    "\n",
    "\n",
    "#write error_files to csv\n",
    "with open('error_files.csv', 'w') as f:\n",
    "    for item in error_files:\n",
    "        f.write(item[14:-4])\n",
    "        f.write('\\n')"
   ]
  },
  {
   "cell_type": "markdown",
   "metadata": {},
   "source": [
    "3. Tried reconverting all the bad wav files -- found that they are all existing wav files in the Coughvid database."
   ]
  },
  {
   "cell_type": "code",
   "execution_count": null,
   "metadata": {},
   "outputs": [],
   "source": [
    "coughvid = '../../coughvid_20211012/'\n",
    "current_dir = os.getcwd()\n",
    "\n",
    "#read in error files in pd\n",
    "error_files = pd.read_csv('error_files.csv', header=None)\n",
    "#cut off the front and .wav at the end\n",
    "test = error_files[0].str[14:-4]\n",
    "\n",
    "count = 0\n",
    "for file in tqdm(test):\n",
    "# run ffmpeg -i \"file.webm\" -vn \"file.wav\" in terminal to convert to wav\n",
    "    print(coughvid + file + '.webm')\n",
    "    if os.path.isfile(coughvid + file + '.webm'):\n",
    "        subprocess.call([\"ffmpeg\", \"-i\", coughvid+file+\".webm\", current_dir+'./temp_wav/'+file+\".wav\"])\n",
    "    elif os.path.isfile(coughvid + file + '.ogg'):\n",
    "        subprocess.call([\"ffmpeg\", \"-i\", coughvid+file+\".ogg\", current_dir+'./temp_wav/'+file+\".wav\"])\n",
    "    else:\n",
    "        print(\"Error: No file name {0}\".format(file))\n",
    "        count += 1\n",
    "print(count)"
   ]
  },
  {
   "cell_type": "markdown",
   "metadata": {},
   "source": [
    "4. Create the new data without the bad wav files."
   ]
  },
  {
   "cell_type": "code",
   "execution_count": null,
   "metadata": {},
   "outputs": [],
   "source": [
    "all_df = pd.read_parquet(os.path.join(AUDIO_DIR, \"metadata_compiled_valid.parquet.gzip\"))\n",
    "# for each file name in error files\n",
    "# remove it from all_df\n",
    "# create new train/test split\n",
    "\n",
    "\n",
    "#read in error files in pd\n",
    "error_files = pd.read_csv('error_files.csv', header=None)\n",
    "\n",
    "#for each file name in error files\n",
    "#remove it from all_df\n",
    "# create new train/test split\n",
    "for file in tqdm(error_files[0]):\n",
    "    #if file equals uuid in all_df remove it from all_df\n",
    "    #remove row from all_df\n",
    "    all_df = all_df.drop(all_df.index[all_df['uuid'] == file])\n",
    "\n",
    "#save new all_df\n",
    "all_df.to_parquet(os.path.join(AUDIO_DIR, \"metadata_compiled_valid_edited.parquet.gzip\"))\n",
    "#save new all_df as csv\n",
    "all_df.to_csv(os.path.join(AUDIO_DIR, \"metadata_compiled_valid_edited.csv\"))"
   ]
  },
  {
   "cell_type": "markdown",
   "metadata": {},
   "source": []
  }
 ],
 "metadata": {
  "kernelspec": {
   "display_name": "Python 3.10.6 ('.venv': venv)",
   "language": "python",
   "name": "python3"
  },
  "language_info": {
   "name": "python",
   "version": "3.10.6"
  },
  "orig_nbformat": 4,
  "vscode": {
   "interpreter": {
    "hash": "9f480ccb6be28d4b7a840fe3b1174df64fdfbdad14d75b02fbd7e3b419aecfda"
   }
  }
 },
 "nbformat": 4,
 "nbformat_minor": 2
}
