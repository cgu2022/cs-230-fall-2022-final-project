{
 "cells": [
  {
   "cell_type": "markdown",
   "metadata": {},
   "source": [
    "# Generating the pairs of data for Contrastive Learning"
   ]
  },
  {
   "cell_type": "code",
   "execution_count": 4,
   "metadata": {},
   "outputs": [],
   "source": [
    "import os\n",
    "import torch\n",
    "from torch import nn\n",
    "from torch.utils.data import Dataset, DataLoader\n",
    "import pandas as pd\n",
    "from tqdm import tqdm\n",
    "import audiomentations\n",
    "#from audiomentations import Compose, PitchShift\n",
    "#import torch_audiomentations\n",
    "from torch_audiomentations import Compose, PitchShift, TimeInversion\n",
    "import torchaudio\n",
    "import numpy as np"
   ]
  },
  {
   "cell_type": "code",
   "execution_count": 26,
   "metadata": {},
   "outputs": [
    {
     "name": "stdout",
     "output_type": "stream",
     "text": [
      "line:  00039425-7f3a-42aa-ac13-834aaa2b6b92\n",
      "signal shape:  torch.Size([1, 1, 469440])\n"
     ]
    },
    {
     "name": "stderr",
     "output_type": "stream",
     "text": [
      "/Users/serenazhang/Documents/cs230/coughvid/.venv/lib/python3.10/site-packages/torch_audiomentations/core/transforms_interface.py:77: FutureWarning: Transforms now expect an `output_type` argument that currently defaults to 'tensor', will default to 'dict' in v0.12, and will be removed in v0.13. Make sure to update your code to something like:\n",
      "  >>> augment = PitchShift(..., output_type='dict')\n",
      "  >>> augmented_samples = augment(samples).samples\n",
      "  warnings.warn(\n",
      "/Users/serenazhang/Documents/cs230/coughvid/.venv/lib/python3.10/site-packages/torch_audiomentations/core/transforms_interface.py:77: FutureWarning: Transforms now expect an `output_type` argument that currently defaults to 'tensor', will default to 'dict' in v0.12, and will be removed in v0.13. Make sure to update your code to something like:\n",
      "  >>> augment = TimeInversion(..., output_type='dict')\n",
      "  >>> augmented_samples = augment(samples).samples\n",
      "  warnings.warn(\n",
      "/Users/serenazhang/Documents/cs230/coughvid/.venv/lib/python3.10/site-packages/torch_audiomentations/core/composition.py:42: FutureWarning: Transforms now expect an `output_type` argument that currently defaults to 'tensor', will default to 'dict' in v0.12, and will be removed in v0.13. Make sure to update your code to something like:\n",
      "  >>> augment = Compose(..., output_type='dict')\n",
      "  >>> augmented_samples = augment(samples).samples\n",
      "  warnings.warn(\n"
     ]
    },
    {
     "name": "stdout",
     "output_type": "stream",
     "text": [
      "aug1 shape:  torch.Size([1, 469440])\n",
      "aug2 shape:  torch.Size([1, 469440])\n"
     ]
    }
   ],
   "source": [
    "AUDIO_DIR = \"../valid_data/\"\n",
    "CSV_PATH = \"../valid_data/metadata_compiled_valid_edited.csv\"\n",
    "\n",
    "df = pd.read_csv(CSV_PATH, header=0)\n",
    "#print('df: ', df)\n",
    "for row in tqdm(df.itertuples()):\n",
    "    print('line: ', row[2])\n",
    "\n",
    "    filename = row[2] + '.wav'\n",
    "    #use torch audiomentations to augment the data and save the files\n",
    "\n",
    "    signal, sr = torchaudio.load(AUDIO_DIR + filename)\n",
    "\n",
    "    audio_tranform = Compose(\n",
    "        transforms=[\n",
    "            PitchShift(\n",
    "                mode = \"per_example\",\n",
    "                p=0.5,\n",
    "                sample_rate=sr,\n",
    "            ), \n",
    "            TimeInversion(\n",
    "                mode = \"per_example\",\n",
    "                p=0.5,\n",
    "         )\n",
    "        ]\n",
    "    )\n",
    "   \n",
    "   #change signal from [1, num_samples] to [1, 1, num_samples]\n",
    "    signal = signal.unsqueeze(1)\n",
    "    print('signal shape: ', signal.shape)\n",
    "\n",
    "    aug1 = audio_tranform(signal, sr)\n",
    "    aug2 = audio_tranform(signal, sr)\n",
    "\n",
    "    \n",
    "\n",
    "    #change aug1 and aug2 from [1, 1, num_samples] to [1, num_samples]\n",
    "    aug1 = aug1.squeeze(1)\n",
    "    aug2 = aug2.squeeze(1)\n",
    "\n",
    "    print('aug1 shape: ', aug1.shape)\n",
    "    print('aug2 shape: ', aug2.shape)\n",
    "\n",
    "    torchaudio.save(AUDIO_DIR + row[2] + '_aug1.wav', aug1, sr)\n",
    "    torchaudio.save(AUDIO_DIR + row[2] + '_aug2.wav', aug2, sr)\n",
    "\n",
    "    #break\n"
   ]
  }
 ],
 "metadata": {
  "kernelspec": {
   "display_name": "Python 3.10.6 ('.venv': venv)",
   "language": "python",
   "name": "python3"
  },
  "language_info": {
   "codemirror_mode": {
    "name": "ipython",
    "version": 3
   },
   "file_extension": ".py",
   "mimetype": "text/x-python",
   "name": "python",
   "nbconvert_exporter": "python",
   "pygments_lexer": "ipython3",
   "version": "3.10.6"
  },
  "orig_nbformat": 4,
  "vscode": {
   "interpreter": {
    "hash": "9f480ccb6be28d4b7a840fe3b1174df64fdfbdad14d75b02fbd7e3b419aecfda"
   }
  }
 },
 "nbformat": 4,
 "nbformat_minor": 2
}
